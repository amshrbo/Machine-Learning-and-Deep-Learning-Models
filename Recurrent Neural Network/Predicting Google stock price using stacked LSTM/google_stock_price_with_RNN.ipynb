{
 "cells": [
  {
   "cell_type": "code",
   "execution_count": 2,
   "metadata": {},
   "outputs": [],
   "source": [
    "import numpy as np\n",
    "import pandas as pd\n",
    "import matplotlib.pyplot as plt\n",
    "from sklearn.preprocessing import MinMaxScaler\n",
    "from keras.models import Sequential\n",
    "from keras.layers import LSTM, Dropout, Dense"
   ]
  },
  {
   "cell_type": "code",
   "execution_count": 3,
   "metadata": {},
   "outputs": [
    {
     "data": {
      "text/html": [
       "<div>\n",
       "<style scoped>\n",
       "    .dataframe tbody tr th:only-of-type {\n",
       "        vertical-align: middle;\n",
       "    }\n",
       "\n",
       "    .dataframe tbody tr th {\n",
       "        vertical-align: top;\n",
       "    }\n",
       "\n",
       "    .dataframe thead th {\n",
       "        text-align: right;\n",
       "    }\n",
       "</style>\n",
       "<table border=\"1\" class=\"dataframe\">\n",
       "  <thead>\n",
       "    <tr style=\"text-align: right;\">\n",
       "      <th></th>\n",
       "      <th>Date</th>\n",
       "      <th>Open</th>\n",
       "      <th>High</th>\n",
       "      <th>Low</th>\n",
       "      <th>Close</th>\n",
       "      <th>Volume</th>\n",
       "    </tr>\n",
       "  </thead>\n",
       "  <tbody>\n",
       "    <tr>\n",
       "      <th>0</th>\n",
       "      <td>1/3/2012</td>\n",
       "      <td>325.25</td>\n",
       "      <td>332.83</td>\n",
       "      <td>324.97</td>\n",
       "      <td>663.59</td>\n",
       "      <td>7,380,500</td>\n",
       "    </tr>\n",
       "    <tr>\n",
       "      <th>1</th>\n",
       "      <td>1/4/2012</td>\n",
       "      <td>331.27</td>\n",
       "      <td>333.87</td>\n",
       "      <td>329.08</td>\n",
       "      <td>666.45</td>\n",
       "      <td>5,749,400</td>\n",
       "    </tr>\n",
       "    <tr>\n",
       "      <th>2</th>\n",
       "      <td>1/5/2012</td>\n",
       "      <td>329.83</td>\n",
       "      <td>330.75</td>\n",
       "      <td>326.89</td>\n",
       "      <td>657.21</td>\n",
       "      <td>6,590,300</td>\n",
       "    </tr>\n",
       "    <tr>\n",
       "      <th>3</th>\n",
       "      <td>1/6/2012</td>\n",
       "      <td>328.34</td>\n",
       "      <td>328.77</td>\n",
       "      <td>323.68</td>\n",
       "      <td>648.24</td>\n",
       "      <td>5,405,900</td>\n",
       "    </tr>\n",
       "    <tr>\n",
       "      <th>4</th>\n",
       "      <td>1/9/2012</td>\n",
       "      <td>322.04</td>\n",
       "      <td>322.29</td>\n",
       "      <td>309.46</td>\n",
       "      <td>620.76</td>\n",
       "      <td>11,688,800</td>\n",
       "    </tr>\n",
       "  </tbody>\n",
       "</table>\n",
       "</div>"
      ],
      "text/plain": [
       "       Date    Open    High     Low   Close      Volume\n",
       "0  1/3/2012  325.25  332.83  324.97  663.59   7,380,500\n",
       "1  1/4/2012  331.27  333.87  329.08  666.45   5,749,400\n",
       "2  1/5/2012  329.83  330.75  326.89  657.21   6,590,300\n",
       "3  1/6/2012  328.34  328.77  323.68  648.24   5,405,900\n",
       "4  1/9/2012  322.04  322.29  309.46  620.76  11,688,800"
      ]
     },
     "execution_count": 3,
     "metadata": {},
     "output_type": "execute_result"
    }
   ],
   "source": [
    "df = pd.read_csv('dataset/Google_Stock_Price_Train.csv')\n",
    "df.head()"
   ]
  },
  {
   "cell_type": "markdown",
   "metadata": {},
   "source": [
    "- Here we will only try to predict the opening of the stock price.\n",
    "- so we don't need the other coulmns in the training."
   ]
  },
  {
   "cell_type": "code",
   "execution_count": 4,
   "metadata": {},
   "outputs": [
    {
     "data": {
      "text/plain": [
       "array([[331.27],\n",
       "       [329.83],\n",
       "       [328.34],\n",
       "       [322.04]])"
      ]
     },
     "execution_count": 4,
     "metadata": {},
     "output_type": "execute_result"
    }
   ],
   "source": [
    "# getting the opening coulmn as numpy array\n",
    "training_set = df.iloc[:, 1:2].values\n",
    "training_set[1:5]"
   ]
  },
  {
   "cell_type": "markdown",
   "metadata": {},
   "source": [
    "### Scalling the data\n",
    "- Using noramlization here as it's recommended to use with rnn and sigmoid"
   ]
  },
  {
   "cell_type": "code",
   "execution_count": 5,
   "metadata": {},
   "outputs": [
    {
     "data": {
      "text/plain": [
       "array([[0.09701243],\n",
       "       [0.09433366],\n",
       "       [0.09156187],\n",
       "       [0.07984225]])"
      ]
     },
     "execution_count": 5,
     "metadata": {},
     "output_type": "execute_result"
    }
   ],
   "source": [
    "sc = MinMaxScaler()\n",
    "training_set_sc = sc.fit_transform(training_set)\n",
    "training_set_sc[1:5]"
   ]
  },
  {
   "cell_type": "markdown",
   "metadata": {},
   "source": [
    "- specifing the timesteps to be 60 \n",
    "> That means when trying to predict the next day opening price our model will look at the previous 3 months as the month here consists of 20 days  \n",
    "\n",
    "- So let's make our x_train and y_train based on that"
   ]
  },
  {
   "cell_type": "code",
   "execution_count": 6,
   "metadata": {},
   "outputs": [],
   "source": [
    "X_train = []\n",
    "y_train = []\n",
    "for i in range(60, len(training_set_sc)):\n",
    "    X_train.append(training_set_sc[(i - 60):i, 0])\n",
    "    y_train.append(training_set_sc[i, 0]) # getting the 60th element as the next timesrtep as it's the 61 element\n",
    "\n",
    "# converting them to numpy array\n",
    "X_train, y_train = np.array(X_train), np.array(y_train)"
   ]
  },
  {
   "cell_type": "code",
   "execution_count": 7,
   "metadata": {},
   "outputs": [
    {
     "name": "stdout",
     "output_type": "stream",
     "text": [
      "The shape of our X_train is (1198, 60)\n",
      "That is the value of the next timestep 0.08627874097775134 \n",
      "given this sequance:\n",
      " [0.08581368 0.09701243 0.09433366 0.09156187 0.07984225 0.0643277\n",
      " 0.0585423  0.06568569 0.06109085 0.06639259 0.0614257  0.07474514\n",
      " 0.02797827 0.02379269 0.02409033 0.0159238  0.01078949 0.00967334\n",
      " 0.01642607 0.02100231 0.02280676 0.02273235 0.02810849 0.03212665\n",
      " 0.0433812  0.04475779 0.04790163 0.0440695  0.04648783 0.04745517\n",
      " 0.04873875 0.03936305 0.04137213 0.04034898 0.04784582 0.04325099\n",
      " 0.04356723 0.04286033 0.04602277 0.05398467 0.05738894 0.05714711\n",
      " 0.05569611 0.04421832 0.04514845 0.04605997 0.04412531 0.03675869\n",
      " 0.04486941 0.05065481 0.05214302 0.05612397 0.05818885 0.06540665\n",
      " 0.06882953 0.07243843 0.07993526 0.07846566 0.08034452 0.08497656]\n"
     ]
    }
   ],
   "source": [
    "print(f'The shape of our X_train is {X_train.shape}')\n",
    "print(f'That is the value of the next timestep {y_train[0]} \\ngiven this sequance:\\n {X_train[0]}')"
   ]
  },
  {
   "cell_type": "markdown",
   "metadata": {},
   "source": [
    "- What I am trying to show is that we will get from our data set two new datastructure\n",
    "    - `X_train`: as it represents the timestep that i will use to predict the next timestep\n",
    "    - `y_train`: as the actual value for the day from the previous 60 opening day"
   ]
  },
  {
   "cell_type": "markdown",
   "metadata": {},
   "source": [
    "### Reshaping our input for keras\n",
    "- The expected input for keras is `(batch_sz, timestep, indicators)` for our case -> `(1198, 60, 1)`\n",
    "    - 1198 as the number of records that we have\n",
    "    - 1 as we depend on one coulmn to predict our next timestep"
   ]
  },
  {
   "cell_type": "code",
   "execution_count": 8,
   "metadata": {},
   "outputs": [
    {
     "name": "stdout",
     "output_type": "stream",
     "text": [
      "That is the new shape of our data (1198, 60, 1)\n"
     ]
    }
   ],
   "source": [
    "X_train = np.reshape(X_train, (X_train.shape[0], X_train.shape[1], 1))\n",
    "print(f'That is the new shape of our data {X_train.shape}')"
   ]
  },
  {
   "cell_type": "code",
   "execution_count": 16,
   "metadata": {},
   "outputs": [],
   "source": [
    "regressor = Sequential()"
   ]
  },
  {
   "cell_type": "markdown",
   "metadata": {},
   "source": [
    "#### Creating our stacked LSTM"
   ]
  },
  {
   "cell_type": "code",
   "execution_count": 17,
   "metadata": {},
   "outputs": [],
   "source": [
    "regressor.add(LSTM(units=50, return_sequences=True, input_shape=(X_train.shape[1], 1)))\n",
    "# return_sequences only show that I'm gonna use another lstm layer after this one and it has false value by default\n",
    "regressor.add(Dropout(rate=0.2))\n",
    "\n",
    "# 2nd lstm lyr\n",
    "regressor.add(LSTM(units=50, return_sequences=True))\n",
    "regressor.add(Dropout(rate=0.2))\n",
    "\n",
    "# 3rd lstm lyr\n",
    "regressor.add(LSTM(units=50, return_sequences=True))\n",
    "regressor.add(Dropout(rate=0.2))\n",
    "\n",
    "# 4th lstm lyr\n",
    "regressor.add(LSTM(units=50, return_sequences=False)) # as that is the last one\n",
    "regressor.add(Dropout(rate=0.2))\n",
    "\n",
    "# output lyr\n",
    "regressor.add(Dense(units=1)) # as that is the last one"
   ]
  },
  {
   "cell_type": "code",
   "execution_count": 18,
   "metadata": {},
   "outputs": [],
   "source": [
    "# Compile our model\n",
    "regressor.compile(optimizer='adam', loss='mean_squared_error')"
   ]
  },
  {
   "cell_type": "code",
   "execution_count": 19,
   "metadata": {},
   "outputs": [
    {
     "name": "stdout",
     "output_type": "stream",
     "text": [
      "Epoch 1/100\n",
      "1198/1198 [==============================] - 20s 17ms/step - loss: 0.0457\n",
      "Epoch 2/100\n",
      "1198/1198 [==============================] - 12s 10ms/step - loss: 0.0061\n",
      "Epoch 3/100\n",
      "1198/1198 [==============================] - 12s 10ms/step - loss: 0.0052\n",
      "Epoch 4/100\n",
      "1198/1198 [==============================] - 13s 11ms/step - loss: 0.0048\n",
      "Epoch 5/100\n",
      "1198/1198 [==============================] - 14s 12ms/step - loss: 0.0052\n",
      "Epoch 6/100\n",
      "1198/1198 [==============================] - 14s 12ms/step - loss: 0.0044\n",
      "Epoch 7/100\n",
      "1198/1198 [==============================] - 14s 12ms/step - loss: 0.0042\n",
      "Epoch 8/100\n",
      "1198/1198 [==============================] - 14s 12ms/step - loss: 0.0056\n",
      "Epoch 9/100\n",
      "1198/1198 [==============================] - 14s 12ms/step - loss: 0.0047\n",
      "Epoch 10/100\n",
      "1198/1198 [==============================] - 13s 11ms/step - loss: 0.0050\n",
      "Epoch 11/100\n",
      "1198/1198 [==============================] - 14s 12ms/step - loss: 0.0042\n",
      "Epoch 12/100\n",
      "1198/1198 [==============================] - 14s 12ms/step - loss: 0.0043\n",
      "Epoch 13/100\n",
      "1198/1198 [==============================] - 13s 11ms/step - loss: 0.0051\n",
      "Epoch 14/100\n",
      "1198/1198 [==============================] - 14s 12ms/step - loss: 0.0040\n",
      "Epoch 15/100\n",
      "1198/1198 [==============================] - 13s 11ms/step - loss: 0.0043\n",
      "Epoch 16/100\n",
      "1198/1198 [==============================] - 10s 8ms/step - loss: 0.0035\n",
      "Epoch 17/100\n",
      "1198/1198 [==============================] - 10s 8ms/step - loss: 0.0036\n",
      "Epoch 18/100\n",
      "1198/1198 [==============================] - 10s 8ms/step - loss: 0.0036\n",
      "Epoch 19/100\n",
      "1198/1198 [==============================] - 10s 8ms/step - loss: 0.0037\n",
      "Epoch 20/100\n",
      "1198/1198 [==============================] - 10s 8ms/step - loss: 0.0035\n",
      "Epoch 21/100\n",
      "1198/1198 [==============================] - 10s 8ms/step - loss: 0.0036\n",
      "Epoch 22/100\n",
      "1198/1198 [==============================] - 10s 8ms/step - loss: 0.0031\n",
      "Epoch 23/100\n",
      "1198/1198 [==============================] - 10s 8ms/step - loss: 0.0031\n",
      "Epoch 24/100\n",
      "1198/1198 [==============================] - 10s 8ms/step - loss: 0.0034\n",
      "Epoch 25/100\n",
      "1198/1198 [==============================] - 10s 8ms/step - loss: 0.0032\n",
      "Epoch 26/100\n",
      "1198/1198 [==============================] - 10s 9ms/step - loss: 0.0036\n",
      "Epoch 27/100\n",
      "1198/1198 [==============================] - 10s 9ms/step - loss: 0.0029\n",
      "Epoch 28/100\n",
      "1198/1198 [==============================] - 10s 8ms/step - loss: 0.0031\n",
      "Epoch 29/100\n",
      "1198/1198 [==============================] - 10s 9ms/step - loss: 0.0028\n",
      "Epoch 30/100\n",
      "1198/1198 [==============================] - 10s 8ms/step - loss: 0.0030\n",
      "Epoch 31/100\n",
      "1198/1198 [==============================] - 10s 8ms/step - loss: 0.0031\n",
      "Epoch 32/100\n",
      "1198/1198 [==============================] - 10s 8ms/step - loss: 0.0026\n",
      "Epoch 33/100\n",
      "1198/1198 [==============================] - 11s 9ms/step - loss: 0.0030\n",
      "Epoch 34/100\n",
      "1198/1198 [==============================] - 9s 8ms/step - loss: 0.0028\n",
      "Epoch 35/100\n",
      "1198/1198 [==============================] - 9s 8ms/step - loss: 0.0027\n",
      "Epoch 36/100\n",
      "1198/1198 [==============================] - 10s 8ms/step - loss: 0.0028\n",
      "Epoch 37/100\n",
      "1198/1198 [==============================] - 10s 9ms/step - loss: 0.0029\n",
      "Epoch 38/100\n",
      "1198/1198 [==============================] - 10s 8ms/step - loss: 0.0025\n",
      "Epoch 39/100\n",
      "1198/1198 [==============================] - 10s 8ms/step - loss: 0.0029\n",
      "Epoch 40/100\n",
      "1198/1198 [==============================] - 10s 8ms/step - loss: 0.0024\n",
      "Epoch 41/100\n",
      "1198/1198 [==============================] - 10s 8ms/step - loss: 0.0028\n",
      "Epoch 42/100\n",
      "1198/1198 [==============================] - 10s 8ms/step - loss: 0.0025\n",
      "Epoch 43/100\n",
      "1198/1198 [==============================] - 10s 8ms/step - loss: 0.0024\n",
      "Epoch 44/100\n",
      "1198/1198 [==============================] - 10s 8ms/step - loss: 0.0026\n",
      "Epoch 45/100\n",
      "1198/1198 [==============================] - 10s 8ms/step - loss: 0.0026\n",
      "Epoch 46/100\n",
      "1198/1198 [==============================] - 10s 8ms/step - loss: 0.0023\n",
      "Epoch 47/100\n",
      "1198/1198 [==============================] - 10s 8ms/step - loss: 0.0024\n",
      "Epoch 48/100\n",
      "1198/1198 [==============================] - 10s 8ms/step - loss: 0.0025\n",
      "Epoch 49/100\n",
      "1198/1198 [==============================] - 10s 8ms/step - loss: 0.0023\n",
      "Epoch 50/100\n",
      "1198/1198 [==============================] - 10s 8ms/step - loss: 0.0024\n",
      "Epoch 51/100\n",
      "1198/1198 [==============================] - 10s 8ms/step - loss: 0.0022\n",
      "Epoch 52/100\n",
      "1198/1198 [==============================] - 9s 8ms/step - loss: 0.0023\n",
      "Epoch 53/100\n",
      "1198/1198 [==============================] - 10s 8ms/step - loss: 0.0020\n",
      "Epoch 54/100\n",
      "1198/1198 [==============================] - 10s 8ms/step - loss: 0.0021\n",
      "Epoch 55/100\n",
      "1198/1198 [==============================] - 10s 8ms/step - loss: 0.0022\n",
      "Epoch 56/100\n",
      "1198/1198 [==============================] - 9s 8ms/step - loss: 0.0020\n",
      "Epoch 57/100\n",
      "1198/1198 [==============================] - 9s 8ms/step - loss: 0.0020\n",
      "Epoch 58/100\n",
      "1198/1198 [==============================] - 9s 8ms/step - loss: 0.0023\n",
      "Epoch 59/100\n",
      "1198/1198 [==============================] - 9s 8ms/step - loss: 0.0019\n",
      "Epoch 60/100\n",
      "1198/1198 [==============================] - 10s 8ms/step - loss: 0.0020\n",
      "Epoch 61/100\n",
      "1198/1198 [==============================] - 9s 8ms/step - loss: 0.0019\n",
      "Epoch 62/100\n",
      "1198/1198 [==============================] - 9s 8ms/step - loss: 0.0020\n",
      "Epoch 63/100\n",
      "1198/1198 [==============================] - 9s 8ms/step - loss: 0.0019\n",
      "Epoch 64/100\n",
      "1198/1198 [==============================] - 9s 8ms/step - loss: 0.0020\n",
      "Epoch 65/100\n",
      "1198/1198 [==============================] - 9s 8ms/step - loss: 0.0021\n",
      "Epoch 66/100\n",
      "1198/1198 [==============================] - 9s 8ms/step - loss: 0.0020\n",
      "Epoch 67/100\n",
      "1198/1198 [==============================] - 9s 8ms/step - loss: 0.0020\n",
      "Epoch 68/100\n",
      "1198/1198 [==============================] - 9s 8ms/step - loss: 0.0018\n",
      "Epoch 69/100\n",
      "1198/1198 [==============================] - 9s 8ms/step - loss: 0.0019\n",
      "Epoch 70/100\n",
      "1198/1198 [==============================] - 9s 8ms/step - loss: 0.0019\n",
      "Epoch 71/100\n",
      "1198/1198 [==============================] - 9s 8ms/step - loss: 0.0018\n",
      "Epoch 72/100\n",
      "1198/1198 [==============================] - 9s 8ms/step - loss: 0.0017\n",
      "Epoch 73/100\n",
      "1198/1198 [==============================] - 9s 8ms/step - loss: 0.0018\n",
      "Epoch 74/100\n",
      "1198/1198 [==============================] - 9s 8ms/step - loss: 0.0019\n",
      "Epoch 75/100\n",
      "1198/1198 [==============================] - 9s 8ms/step - loss: 0.0018\n",
      "Epoch 76/100\n",
      "1198/1198 [==============================] - 9s 8ms/step - loss: 0.0019\n",
      "Epoch 77/100\n",
      "1198/1198 [==============================] - 9s 8ms/step - loss: 0.0017\n",
      "Epoch 78/100\n",
      "1198/1198 [==============================] - 9s 8ms/step - loss: 0.0017\n",
      "Epoch 79/100\n",
      "1198/1198 [==============================] - 9s 8ms/step - loss: 0.0015\n",
      "Epoch 80/100\n",
      "1198/1198 [==============================] - 9s 8ms/step - loss: 0.0017\n",
      "Epoch 81/100\n",
      "1198/1198 [==============================] - 9s 8ms/step - loss: 0.0016\n",
      "Epoch 82/100\n",
      "1198/1198 [==============================] - 9s 8ms/step - loss: 0.0015\n",
      "Epoch 83/100\n",
      "1198/1198 [==============================] - 9s 8ms/step - loss: 0.0017\n",
      "Epoch 84/100\n",
      "1198/1198 [==============================] - 9s 8ms/step - loss: 0.0017\n",
      "Epoch 85/100\n",
      "1198/1198 [==============================] - 9s 8ms/step - loss: 0.0016\n",
      "Epoch 86/100\n",
      "1198/1198 [==============================] - 9s 8ms/step - loss: 0.0017\n",
      "Epoch 87/100\n",
      "1198/1198 [==============================] - 9s 8ms/step - loss: 0.0015\n",
      "Epoch 88/100\n",
      "1198/1198 [==============================] - 9s 8ms/step - loss: 0.0016\n",
      "Epoch 89/100\n",
      "1198/1198 [==============================] - 9s 8ms/step - loss: 0.0017\n",
      "Epoch 90/100\n",
      "1198/1198 [==============================] - 9s 8ms/step - loss: 0.0015\n",
      "Epoch 91/100\n",
      "1198/1198 [==============================] - 9s 8ms/step - loss: 0.0015\n",
      "Epoch 92/100\n",
      "1198/1198 [==============================] - 9s 8ms/step - loss: 0.0014\n",
      "Epoch 93/100\n",
      "1198/1198 [==============================] - 9s 8ms/step - loss: 0.0014\n",
      "Epoch 94/100\n",
      "1198/1198 [==============================] - 9s 8ms/step - loss: 0.0017\n",
      "Epoch 95/100\n",
      "1198/1198 [==============================] - 10s 8ms/step - loss: 0.0014\n",
      "Epoch 96/100\n"
     ]
    },
    {
     "name": "stdout",
     "output_type": "stream",
     "text": [
      "1198/1198 [==============================] - 11s 9ms/step - loss: 0.0014\n",
      "Epoch 97/100\n",
      "1198/1198 [==============================] - 9s 8ms/step - loss: 0.0015\n",
      "Epoch 98/100\n",
      "1198/1198 [==============================] - 9s 8ms/step - loss: 0.0017\n",
      "Epoch 99/100\n",
      "1198/1198 [==============================] - 9s 8ms/step - loss: 0.0015\n",
      "Epoch 100/100\n",
      "1198/1198 [==============================] - 9s 8ms/step - loss: 0.0014\n"
     ]
    },
    {
     "data": {
      "text/plain": [
       "<keras.callbacks.History at 0x7f88b4662860>"
      ]
     },
     "execution_count": 19,
     "metadata": {},
     "output_type": "execute_result"
    }
   ],
   "source": [
    "# Train our model\n",
    "regressor.fit(X_train, y_train, epochs=100, batch_size=32)"
   ]
  },
  {
   "cell_type": "code",
   "execution_count": 21,
   "metadata": {},
   "outputs": [],
   "source": [
    "#Getting the real stock price for jan 2017\n",
    "df_real = pd.read_csv('dataset/Google_Stock_Price_Test.csv')\n",
    "real_stock_price = df_real.iloc[:, 1:2].values"
   ]
  },
  {
   "cell_type": "markdown",
   "metadata": {},
   "source": [
    "### Getting the predicted stock price for jan 2017\n",
    "- First we should concate our df_real and df\n",
    "- concate the open coulmn from the training and testing data set"
   ]
  },
  {
   "cell_type": "code",
   "execution_count": 28,
   "metadata": {},
   "outputs": [
    {
     "name": "stdout",
     "output_type": "stream",
     "text": [
      "(80, 1)\n"
     ]
    }
   ],
   "source": [
    "df_total = pd.concat((df['Open'], df_real['Open']), axis=0)\n",
    "inputs = df_total[(len(df_total) - len(df_real) - 60):].values\n",
    "inputs = inputs.reshape(-1, 1)\n",
    "print(inputs.shape)\n",
    "#Scalling\n",
    "inputs = sc.transform(inputs)"
   ]
  },
  {
   "cell_type": "code",
   "execution_count": 29,
   "metadata": {},
   "outputs": [],
   "source": [
    "#using the same technique as before to prepare the test dataset\n",
    "X_test = []\n",
    "\n",
    "for i in range(60, 80):\n",
    "    X_test.append(inputs[(i - 60):i, 0])\n",
    "\n",
    "# converting them to numpy array\n",
    "X_test= np.array(X_test)\n",
    "X_test = np.reshape(X_test, (X_test.shape[0], X_test.shape[1], 1))\n"
   ]
  },
  {
   "cell_type": "code",
   "execution_count": 30,
   "metadata": {},
   "outputs": [],
   "source": [
    "predict_stock_price = regressor.predict(X_test)\n",
    "predict_stock_price = sc.inverse_transform(predict_stock_price)"
   ]
  },
  {
   "cell_type": "code",
   "execution_count": 31,
   "metadata": {},
   "outputs": [
    {
     "data": {
      "text/plain": [
       "(20, 1)"
      ]
     },
     "execution_count": 31,
     "metadata": {},
     "output_type": "execute_result"
    }
   ],
   "source": [
    "predict_stock_price.shape"
   ]
  },
  {
   "cell_type": "code",
   "execution_count": 33,
   "metadata": {},
   "outputs": [
    {
     "name": "stdout",
     "output_type": "stream",
     "text": [
      "[[788.3533 ]\n",
      " [785.4217 ]\n",
      " [786.5729 ]\n",
      " [789.145  ]\n",
      " [793.06165]]\n"
     ]
    }
   ],
   "source": [
    "print(predict_stock_price[0:5])"
   ]
  },
  {
   "cell_type": "markdown",
   "metadata": {},
   "source": [
    "### Visualizing the results"
   ]
  },
  {
   "cell_type": "code",
   "execution_count": 34,
   "metadata": {},
   "outputs": [
    {
     "data": {
      "image/png": "[encoded data removed]",
      "text/plain": [
       "<Figure size 432x288 with 1 Axes>"
      ]
     },
     "metadata": {},
     "output_type": "display_data"
    }
   ],
   "source": [
    "plt.plot(real_stock_price, color='red', label='Real Google stock price')\n",
    "plt.plot(predict_stock_price, color='blue', label='predicted Google stock price')\n",
    "plt.title('Google Stock price prediction')\n",
    "plt.xlabel('Time')\n",
    "plt.ylabel('Google Stock Price')\n",
    "plt.legend()\n",
    "plt.show()"
   ]
  },
  {
   "cell_type": "markdown",
   "metadata": {},
   "source": [
    "### From what we see in the figure\n",
    "- The predicted one is so close to the real stock price in value\n",
    "- and it is actually taking the same shape "
   ]
  },
  {
   "cell_type": "markdown",
   "metadata": {},
   "source": [
    "Thanks for reading   \n",
    "Hope you enjoyed it  \n",
    "Peace ^_^"
   ]
  }
 ],
 "metadata": {
  "kernelspec": {
   "display_name": "Python 3",
   "language": "python",
   "name": "python3"
  },
  "language_info": {
   "codemirror_mode": {
    "name": "ipython",
    "version": 3
   },
   "file_extension": ".py",
   "mimetype": "text/x-python",
   "name": "python",
   "nbconvert_exporter": "python",
   "pygments_lexer": "ipython3",
   "version": "3.6.5"
  }
 },
 "nbformat": 4,
 "nbformat_minor": 2
}
