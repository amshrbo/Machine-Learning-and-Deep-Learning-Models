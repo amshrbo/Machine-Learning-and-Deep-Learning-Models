{
 "cells": [
  {
   "cell_type": "code",
   "execution_count": 1,
   "metadata": {},
   "outputs": [],
   "source": [
    "import numpy as np\n",
    "import pandas as pd\n",
    "import matplotlib.pyplot as plt\n",
    "from sklearn.preprocessing import MinMaxScaler\n",
    "from minisom import MiniSom\n",
    "from pylab import bone, pcolor, colorbar, plot, show"
   ]
  },
  {
   "cell_type": "markdown",
   "metadata": {},
   "source": [
    "---  "
   ]
  },
  {
   "cell_type": "markdown",
   "metadata": {},
   "source": [
    "### 1. Getting the dataset and scale it using MInMaxScaler"
   ]
  },
  {
   "cell_type": "markdown",
   "metadata": {},
   "source": [
    "+ Read More about the dataset from <a href='http://archive.ics.uci.edu/ml/datasets/statlog+(australian+credit+approval)'><strong> Here </strong></a>\n",
    "+ This file concerns credit card applications. All attribute names and values have been changed to meaningless symbols to protect confidentiality of the data. \n"
   ]
  },
  {
   "cell_type": "code",
   "execution_count": 2,
   "metadata": {},
   "outputs": [],
   "source": [
    "dataset = pd.read_csv('Australian_Credit_Approval.csv')\n",
    "X = dataset.iloc[:, :-1].values\n",
    "y = dataset.iloc[:, -1].values"
   ]
  },
  {
   "cell_type": "code",
   "execution_count": 3,
   "metadata": {},
   "outputs": [
    {
     "name": "stdout",
     "output_type": "stream",
     "text": [
      "<class 'pandas.core.frame.DataFrame'>\n",
      "RangeIndex: 690 entries, 0 to 689\n",
      "Data columns (total 16 columns):\n",
      "CustomerID    690 non-null int64\n",
      "A1            690 non-null int64\n",
      "A2            690 non-null float64\n",
      "A3            690 non-null float64\n",
      "A4            690 non-null int64\n",
      "A5            690 non-null int64\n",
      "A6            690 non-null int64\n",
      "A7            690 non-null float64\n",
      "A8            690 non-null int64\n",
      "A9            690 non-null int64\n",
      "A10           690 non-null int64\n",
      "A11           690 non-null int64\n",
      "A12           690 non-null int64\n",
      "A13           690 non-null int64\n",
      "A14           690 non-null int64\n",
      "Class         690 non-null int64\n",
      "dtypes: float64(3), int64(13)\n",
      "memory usage: 86.3 KB\n",
      "None\n",
      "[1.5739548e+07 0.0000000e+00 2.2670000e+01 7.0000000e+00 2.0000000e+00\n",
      " 8.0000000e+00 4.0000000e+00 1.6500000e-01 0.0000000e+00 0.0000000e+00\n",
      " 0.0000000e+00 0.0000000e+00 2.0000000e+00 1.6000000e+02 1.0000000e+00]\n",
      "0\n"
     ]
    }
   ],
   "source": [
    "print(dataset.info())\n",
    "print(X[1])\n",
    "print(y[1])"
   ]
  },
  {
   "cell_type": "code",
   "execution_count": 4,
   "metadata": {},
   "outputs": [
    {
     "data": {
      "text/plain": [
       "array([0.69609056, 0.        , 0.13413534, 0.25      , 0.5       ,\n",
       "       0.53846154, 0.375     , 0.00578947, 0.        , 0.        ,\n",
       "       0.        , 0.        , 0.5       , 0.08      , 0.        ])"
      ]
     },
     "execution_count": 4,
     "metadata": {},
     "output_type": "execute_result"
    }
   ],
   "source": [
    "scaler = MinMaxScaler(feature_range=(0, 1))\n",
    "X = scaler.fit_transform(X)\n",
    "X[1]"
   ]
  },
  {
   "cell_type": "markdown",
   "metadata": {},
   "source": [
    "---  \n",
    "___"
   ]
  },
  {
   "cell_type": "markdown",
   "metadata": {},
   "source": [
    "### 2. Using the MiniSom library Read more about it from [here](https://github.com/JustGlowing/minisom).  \n",
    "1. we start by defining our Model som \n",
    "    - `x, y` dimensions of our map (with more data you need to put the values of `x, y` bigger)\n",
    "    - `Sigma` represents The neighbourhood radius in which the winning node gonna update Values within this radius.\n",
    "1. Then randomly intializing our weights.\n",
    "1. train the model in our data X for 500 iterations"
   ]
  },
  {
   "cell_type": "code",
   "execution_count": 5,
   "metadata": {},
   "outputs": [],
   "source": [
    "som = MiniSom(x=10, y=10, input_len=15, sigma=1.0, learning_rate=0.5)\n",
    "som.random_weights_init(X)\n",
    "som.train_random(data=X, num_iteration=500)"
   ]
  },
  {
   "cell_type": "markdown",
   "metadata": {},
   "source": [
    "---  \n",
    "___"
   ]
  },
  {
   "cell_type": "markdown",
   "metadata": {},
   "source": [
    "### 3. So, How to predict the frauds in the dataset ?"
   ]
  },
  {
   "cell_type": "markdown",
   "metadata": {},
   "source": [
    "1. First let's plot a **2-D mapping** for all of the final winning nodes.\n",
    "    - **Note** that every cell of this map represents a Winning node.\n",
    "    - For each of these nodes we taking the MID (mean interneuron distance)\n",
    "        - MID: the mean of distances of all the neuron around it (the winning node), inside the neighbourhood that we've just specified using sigma when we were creating the model\n",
    "    - _**Conclusion**_: The majority of the winning nodes in some way representing the rules so the outliers will be different by breaking it.\n",
    "        - the higher the MID is the more the winning node is an outlier (fraud), \n",
    "     \n",
    "1. We've two cases here \n",
    "    1. The client cheated and get a negative result.\n",
    "    2. The client cheated and get a **positive** result\n",
    "        > That what we are trying to detect `cheater and get a positive result`"
   ]
  },
  {
   "cell_type": "code",
   "execution_count": 6,
   "metadata": {},
   "outputs": [
    {
     "data": {
      "text/plain": [
       "<matplotlib.colorbar.Colorbar at 0x7fc1ad467080>"
      ]
     },
     "execution_count": 6,
     "metadata": {},
     "output_type": "execute_result"
    },
    {
     "data": {
      "image/png": "[encoded data removed]",
      "text/plain": [
       "<Figure size 432x288 with 2 Axes>"
      ]
     },
     "metadata": {},
     "output_type": "display_data"
    }
   ],
   "source": [
    "final_winning_nodes = som.distance_map().T\n",
    "bone()\n",
    "pcolor(final_winning_nodes)\n",
    "colorbar() # adding legend"
   ]
  },
  {
   "cell_type": "markdown",
   "metadata": {},
   "source": [
    "#### In order to catch a cheater with positive result, first We need to know which one get positive and which get negative.\n",
    "- In order to do that we can assign:\n",
    "    + Green Circle for any positive result\n",
    "    + Red Square for any negative result\n",
    "+ Notes:\n",
    "    - som.winner(x) return tuple (row, coulmn) for which winning node belong that row of data.\n",
    "+ _**Results**_\n",
    "     > In the figure below the cell (5, 5) There is a group of Cheaters getting a positive results which say that the group of people in this cell must have been cheated and the bank must take a move on them, because they have _**a high MID and get a red circle**_.\n",
    "     - Note (5, 5) -> (x_axis, y_axis) That is not a matrix that is a representaion on the x and y axis"
   ]
  },
  {
   "cell_type": "code",
   "execution_count": 7,
   "metadata": {},
   "outputs": [
    {
     "data": {
      "image/png": "[encoded data removed]",
      "text/plain": [
       "<Figure size 432x288 with 2 Axes>"
      ]
     },
     "metadata": {},
     "output_type": "display_data"
    }
   ],
   "source": [
    "bone()\n",
    "pcolor(som.distance_map().T)\n",
    "colorbar()\n",
    "markers = ['o', 's']\n",
    "colors = ['r', 'g']\n",
    "for i, x in enumerate(X):\n",
    "    w = som.winner(x)\n",
    "    plot(w[0] + 0.5,\n",
    "         w[1] + 0.5,\n",
    "         markers[y[i]],\n",
    "         markeredgecolor = colors[y[i]],\n",
    "         markerfacecolor = 'None',\n",
    "         markersize = 10,\n",
    "         markeredgewidth = 2)\n",
    "show()"
   ]
  },
  {
   "cell_type": "markdown",
   "metadata": {},
   "source": [
    "---  \n",
    "___"
   ]
  },
  {
   "cell_type": "markdown",
   "metadata": {},
   "source": [
    "### 4- After spotting outliers How to go further more and get a practical results"
   ]
  },
  {
   "cell_type": "markdown",
   "metadata": {},
   "source": [
    "+ So how to get all the customers associated with This cell\n",
    "    + We have a function `win_map(X)` in the class `som`, that takes all the data set(that've been trained on) and return dict to every cell in the map and with the elements associated to it"
   ]
  },
  {
   "cell_type": "code",
   "execution_count": 25,
   "metadata": {
    "scrolled": true
   },
   "outputs": [
    {
     "data": {
      "text/plain": [
       "array([0.9592278 , 0.        , 0.51759398, 0.04767857, 0.5       ,\n",
       "       0.15384615, 0.75      , 0.01175439, 0.        , 0.        ,\n",
       "       0.        , 0.        , 0.5       , 0.        , 0.0012    ])"
      ]
     },
     "execution_count": 25,
     "metadata": {},
     "output_type": "execute_result"
    }
   ],
   "source": [
    "mappings = som.win_map(X)\n",
    "mappings[(5, 5)][16] # the element num 16 that belong to the cell (5, 5)"
   ]
  },
  {
   "cell_type": "markdown",
   "metadata": {},
   "source": [
    "Inverse transform the frauds to get back their actual values and get the actual ID of the client"
   ]
  },
  {
   "cell_type": "code",
   "execution_count": 26,
   "metadata": {},
   "outputs": [],
   "source": [
    "frauds = mappings[(5,5)]\n",
    "frauds = scaler.inverse_transform(mappings[(5, 5)])"
   ]
  },
  {
   "cell_type": "code",
   "execution_count": 29,
   "metadata": {},
   "outputs": [
    {
     "name": "stdout",
     "output_type": "stream",
     "text": [
      "17\n"
     ]
    },
    {
     "data": {
      "text/plain": [
       "array([[15706762.],\n",
       "       [15672894.],\n",
       "       [15783883.],\n",
       "       [15756538.],\n",
       "       [15651868.],\n",
       "       [15716082.],\n",
       "       [15651460.],\n",
       "       [15672637.],\n",
       "       [15769548.],\n",
       "       [15752344.],\n",
       "       [15736533.],\n",
       "       [15779207.],\n",
       "       [15611409.],\n",
       "       [15752578.],\n",
       "       [15636454.],\n",
       "       [15615296.],\n",
       "       [15805261.]])"
      ]
     },
     "execution_count": 29,
     "metadata": {},
     "output_type": "execute_result"
    }
   ],
   "source": [
    "print(frauds.shape[0])\n",
    "frauds[:, 0:1]"
   ]
  },
  {
   "cell_type": "markdown",
   "metadata": {},
   "source": [
    "#### Final Note: We have 17 suspected customer"
   ]
  },
  {
   "cell_type": "markdown",
   "metadata": {},
   "source": [
    "Thanks for reading, Peace ^_^."
   ]
  }
 ],
 "metadata": {
  "kernelspec": {
   "display_name": "Python 3",
   "language": "python",
   "name": "python3"
  },
  "language_info": {
   "codemirror_mode": {
    "name": "ipython",
    "version": 3
   },
   "file_extension": ".py",
   "mimetype": "text/x-python",
   "name": "python",
   "nbconvert_exporter": "python",
   "pygments_lexer": "ipython3",
   "version": "3.6.5"
  }
 },
 "nbformat": 4,
 "nbformat_minor": 2
}
